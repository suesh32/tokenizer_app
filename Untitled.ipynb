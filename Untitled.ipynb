{
 "cells": [
  {
   "cell_type": "code",
   "execution_count": 1,
   "metadata": {
    "collapsed": true
   },
   "outputs": [],
   "source": [
    "import pandas as pd\n",
    "from janome.tokenizer import Tokenizer"
   ]
  },
  {
   "cell_type": "code",
   "execution_count": 2,
   "metadata": {
    "collapsed": false
   },
   "outputs": [
    {
     "data": {
      "text/html": [
       "<div>\n",
       "<table border=\"1\" class=\"dataframe\">\n",
       "  <thead>\n",
       "    <tr style=\"text-align: right;\">\n",
       "      <th></th>\n",
       "      <th>name</th>\n",
       "      <th>url</th>\n",
       "      <th>contents</th>\n",
       "    </tr>\n",
       "  </thead>\n",
       "  <tbody>\n",
       "    <tr>\n",
       "      <th>0</th>\n",
       "      <td>ああああああああああああ</td>\n",
       "      <td>https://hoge.com/aaaaa</td>\n",
       "      <td>富、名声、力 かつてこの世の全てを手に入れた男 “海賊王・ゴールド・ロジャー” 彼の死に際に...</td>\n",
       "    </tr>\n",
       "    <tr>\n",
       "      <th>1</th>\n",
       "      <td>いいいい</td>\n",
       "      <td>https://fugafuga.org/iiiiii</td>\n",
       "      <td>受け継がれる意志 時代のうねり 人の夢 これらはとめる事のできないものだ。\\r\\n人々が自由...</td>\n",
       "    </tr>\n",
       "    <tr>\n",
       "      <th>2</th>\n",
       "      <td>うううううううううう</td>\n",
       "      <td>https://foo.bar.jp/uuu/</td>\n",
       "      <td>世界は・・・そうだ！ 自由を求め選ぶべき世界が目の前に広々と横たわっている\\r\\n終らぬ夢が...</td>\n",
       "    </tr>\n",
       "  </tbody>\n",
       "</table>\n",
       "</div>"
      ],
      "text/plain": [
       "           name                           url  \\\n",
       "0  ああああああああああああ        https://hoge.com/aaaaa   \n",
       "1          いいいい   https://fugafuga.org/iiiiii   \n",
       "2    うううううううううう       https://foo.bar.jp/uuu/   \n",
       "\n",
       "                                            contents  \n",
       "0  富、名声、力 かつてこの世の全てを手に入れた男 “海賊王・ゴールド・ロジャー” 彼の死に際に...  \n",
       "1  受け継がれる意志 時代のうねり 人の夢 これらはとめる事のできないものだ。\\r\\n人々が自由...  \n",
       "2  世界は・・・そうだ！ 自由を求め選ぶべき世界が目の前に広々と横たわっている\\r\\n終らぬ夢が...  "
      ]
     },
     "execution_count": 2,
     "metadata": {},
     "output_type": "execute_result"
    }
   ],
   "source": [
    "site_csv = pd.read_csv(\"site.csv\", encoding=\"cp932\")\n",
    "site_csv"
   ]
  },
  {
   "cell_type": "code",
   "execution_count": 12,
   "metadata": {
    "collapsed": false
   },
   "outputs": [
    {
     "name": "stdout",
     "output_type": "stream",
     "text": [
      "[{'おれ': 1}, {'死に際': 1}, {'海': 1}, {'ゴールド': 1}, {'ロジャー': 1}, {'富': 1}, {'世': 1}, {'海賊': 2}, {'男': 1}, {'手': 1}, {'全て': 2}, {'一言': 1}, {'彼': 1}, {'この世': 2}, {'財宝': 1}, {'人々': 1}, {'名声': 1}, {'世界': 1}, {'力': 1}, {'そこ': 1}, {'王': 1}, {'時代': 1}]\n",
      "[{'人々': 1}, {'意志': 1}, {'人': 1}, {'限り': 1}, {'うねり': 1}, {'自由': 1}, {'事': 1}, {'これら': 1}, {'答え': 1}, {'それら': 1}, {'こと': 1}, {'もの': 1}, {'夢': 1}, {'時代': 1}]\n",
      "[{'目': 1}, {'前': 1}, {'世界': 2}, {'たち': 1}, {'下': 1}, {'お前': 1}, {'旗': 1}, {'信念': 1}, {'自由': 1}, {'手': 1}, {'もの': 1}, {'夢': 1}]\n"
     ]
    }
   ],
   "source": [
    "t = Tokenizer()\n",
    "for i,row in site_csv.iterrows():\n",
    "    list = []\n",
    "    newlist = []\n",
    "    for token in t.tokenize(row['contents']):\n",
    "        hinshi = token.part_of_speech[:2]\n",
    "        if(hinshi == '名詞'):\n",
    "#        print(token)\n",
    "            list.append(token.surface)\n",
    "    word_set = set(list)\n",
    "#    print(list)\n",
    "    for word in word_set:\n",
    "        newlist.append({word: list.count(word)})\n",
    "    print(newlist)\n",
    "#    df = pd.DataFrame(newlist)\n",
    "#    print(df.head())"
   ]
  },
  {
   "cell_type": "code",
   "execution_count": null,
   "metadata": {
    "collapsed": true
   },
   "outputs": [],
   "source": []
  }
 ],
 "metadata": {
  "kernelspec": {
   "display_name": "Python 3",
   "language": "python",
   "name": "python3"
  },
  "language_info": {
   "codemirror_mode": {
    "name": "ipython",
    "version": 3
   },
   "file_extension": ".py",
   "mimetype": "text/x-python",
   "name": "python",
   "nbconvert_exporter": "python",
   "pygments_lexer": "ipython3",
   "version": "3.5.2"
  }
 },
 "nbformat": 4,
 "nbformat_minor": 2
}
